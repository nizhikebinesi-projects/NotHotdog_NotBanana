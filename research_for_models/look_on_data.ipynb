{
 "cells": [
  {
   "cell_type": "code",
   "execution_count": 2,
   "metadata": {},
   "outputs": [],
   "source": [
    "# fruits data from https://www.kaggle.com/moltean/fruits/data\n",
    "# food-images-food-101.zip from kaggle too!\n",
    "# not for first use!"
   ]
  },
  {
   "cell_type": "code",
   "execution_count": 3,
   "metadata": {},
   "outputs": [
    {
     "name": "stdout",
     "output_type": "stream",
     "text": [
      "data  invalid-log  log-1.txt  look on data!.ipynb  models  models.ipynb\r\n"
     ]
    }
   ],
   "source": [
    "!ls"
   ]
  },
  {
   "cell_type": "code",
   "execution_count": 1,
   "metadata": {},
   "outputs": [],
   "source": [
    "src = [ \n",
    "            ('http://image-net.org/api/text/imagenet.synset.geturls?wnid=n14974264', 'paper'),\n",
    "            ('http://image-net.org/api/text/imagenet.synset.geturls?wnid=n03580615', 'net'),\n",
    "            ('http://image-net.org/api/text/imagenet.synset.geturls?wnid=n09411189', 'forest'),\n",
    "            ('http://image-net.org/api/text/imagenet.synset.geturls?wnid=n01318894', 'pets'),\n",
    "            ('http://image-net.org/api/text/imagenet.synset.geturls?wnid=n07687469', 'bread'),\n",
    "            ('http://image-net.org/api/text/imagenet.synset.geturls?wnid=n07874063', 'pizza'),\n",
    "            ('http://image-net.org/api/text/imagenet.synset.geturls?wnid=n05257967', 'sausage'),\n",
    "            ('http://image-net.org/api/text/imagenet.synset.geturls?wnid=n03405725', 'furniture'),\n",
    "            ('http://image-net.org/api/text/imagenet.synset.geturls?wnid=n07942152', 'people'),\n",
    "            ('http://image-net.org/api/text/imagenet.synset.geturls?wnid=n00021265', 'food'),\n",
    "            ('http://image-net.org/api/text/imagenet.synset.geturls?wnid=n07753592', 'banana'),\n",
    "            ('http://image-net.org/api/text/imagenet.synset.geturls?wnid=n12353203', 'edible banana'),\n",
    "            ('http://image-net.org/api/text/imagenet.synset.geturls?wnid=n07690019', 'frankfurter'),\n",
    "            ('http://image-net.org/api/text/imagenet.synset.geturls?wnid=n07865105', 'chili-dog'),\n",
    "            ('http://image-net.org/api/text/imagenet.synset.geturls?wnid=n07697537', 'hotdog'),\n",
    "]"
   ]
  },
  {
   "cell_type": "code",
   "execution_count": 6,
   "metadata": {},
   "outputs": [],
   "source": [
    "import urllib\n",
    "import urllib.request\n",
    "import itertools\n",
    "import os\n",
    "import cv2"
   ]
  },
  {
   "cell_type": "code",
   "execution_count": 7,
   "metadata": {},
   "outputs": [],
   "source": [
    "from tqdm import tqdm_notebook\n",
    "from miniutils.progress_bar import iparallel_progbar\n",
    "import numpy as np\n",
    "import time"
   ]
  },
  {
   "cell_type": "code",
   "execution_count": 38,
   "metadata": {},
   "outputs": [],
   "source": [
    "pic_num = 1"
   ]
  },
  {
   "cell_type": "code",
   "execution_count": 7,
   "metadata": {},
   "outputs": [],
   "source": [
    "import socket\n",
    "\n",
    "timeout = 3617\n",
    "socket.setdefaulttimeout(timeout)\n",
    "\n",
    "def loadImage(path, url, counter):\n",
    "    #time.sleep(np.random.randint(low=1, high=10))\n",
    "    global pic_num\n",
    "    if pic_num < counter:\n",
    "        pic_num = counter + 1\n",
    "    s = ''\n",
    "    try:                \n",
    "        urllib.request.urlretrieve(url, path + \"/\" + str(counter) + \".jpg\")\n",
    "        img = cv2.imread(path + \"/\" + str(counter) + \".jpg\")             \n",
    "        if img is not None:\n",
    "            cv2.imwrite(path + \"/\" + str(counter) + \".jpg\", img)\n",
    "            s = url + \" \" + str(counter)\n",
    "    except Exception as e:\n",
    "        s = \"exception = \" + str(e)\n",
    "    return s"
   ]
  },
  {
   "cell_type": "code",
   "execution_count": 8,
   "metadata": {},
   "outputs": [],
   "source": [
    "def storeImages(src, logfilename):\n",
    "    s = \"\"\n",
    "    global pic_num\n",
    "    with open(logfilename, 'w') as out:\n",
    "        for url, path in tqdm_notebook(src):\n",
    "            s += path + \":\\n\"\n",
    "            path = \"./data/\" + path\n",
    "            if not os.path.exists(path):\n",
    "                os.makedirs(path)\n",
    "            try:\n",
    "                image_urls = str(urllib.request.urlopen(url).read())\n",
    "                for x in iparallel_progbar(loadImage, \n",
    "                                      zip(itertools.repeat(path), \n",
    "                                          image_urls.split('\\\\n'), \n",
    "                                          itertools.count(pic_num)), \n",
    "                                      starmap=True,\n",
    "                                      nprocs=13):\n",
    "                    s += \"Result: \" + str(x) + \"\\n\"\n",
    "            except Exception as e:\n",
    "                s += \"\\n$$$\\n\" + str(e) + \"\\n$$$\\n\" \n",
    "            s += \"###\" * 42\n",
    "        out.write(s)"
   ]
  },
  {
   "cell_type": "code",
   "execution_count": 11,
   "metadata": {},
   "outputs": [],
   "source": [
    "def removeInvalidImages(dirPaths, logname):\n",
    "    with open(logname, 'w') as out:\n",
    "        s = ''\n",
    "        for dirPath in tqdm_notebook(dirPaths):\n",
    "            dirPath1 = './data/' + dirPath\n",
    "            for img in tqdm_notebook(os.listdir(dirPath1)):\n",
    "                for invalid in os.listdir('./data/invalid'):\n",
    "                    try:\n",
    "                        current_image_path = str(dirPath1) + '/' + str(img)\n",
    "                        invalid = cv2.imread('./data/invalid/' + str(invalid))\n",
    "                        question = cv2.imread(current_image_path)                     \n",
    "                        if question is None or invalid.shape == question.shape and not(np.bitwise_xor(invalid, question).any()):\n",
    "                            s += current_image_path + \"\\n\"\n",
    "                            os.remove(current_image_path)\n",
    "                            break\n",
    "                    except Exception as e:\n",
    "                        s += str(e) + \"\\n\"\n",
    "        out.write(s)"
   ]
  },
  {
   "cell_type": "code",
   "execution_count": 10,
   "metadata": {},
   "outputs": [
    {
     "data": {
      "application/vnd.jupyter.widget-view+json": {
       "model_id": "2c1e90295d6644eb818acddf8820886a",
       "version_major": 2,
       "version_minor": 0
      },
      "text/plain": [
       "HBox(children=(IntProgress(value=0, max=15), HTML(value='')))"
      ]
     },
     "metadata": {},
     "output_type": "display_data"
    },
    {
     "data": {
      "application/vnd.jupyter.widget-view+json": {
       "model_id": "077174719ab5436c9c505aa299c4b255",
       "version_major": 2,
       "version_minor": 0
      },
      "text/plain": [
       "HBox(children=(IntProgress(value=0, max=1354), HTML(value='')))"
      ]
     },
     "metadata": {},
     "output_type": "display_data"
    },
    {
     "data": {
      "application/vnd.jupyter.widget-view+json": {
       "model_id": "5db8e9ac2ae9457795f7415aa52a2fe6",
       "version_major": 2,
       "version_minor": 0
      },
      "text/plain": [
       "HBox(children=(IntProgress(value=0, max=141), HTML(value='')))"
      ]
     },
     "metadata": {},
     "output_type": "display_data"
    },
    {
     "data": {
      "application/vnd.jupyter.widget-view+json": {
       "model_id": "dfddbfe443864886bc9c0480e570347e",
       "version_major": 2,
       "version_minor": 0
      },
      "text/plain": [
       "HBox(children=(IntProgress(value=0, max=744), HTML(value='')))"
      ]
     },
     "metadata": {},
     "output_type": "display_data"
    },
    {
     "data": {
      "application/vnd.jupyter.widget-view+json": {
       "model_id": "8bc0f7c31ef04115a3a6f0c2ec39f651",
       "version_major": 2,
       "version_minor": 0
      },
      "text/plain": [
       "HBox(children=(IntProgress(value=0, max=1614), HTML(value='')))"
      ]
     },
     "metadata": {},
     "output_type": "display_data"
    },
    {
     "data": {
      "application/vnd.jupyter.widget-view+json": {
       "model_id": "620d9c4acbe24b4eae8517e08b9757bd",
       "version_major": 2,
       "version_minor": 0
      },
      "text/plain": [
       "HBox(children=(IntProgress(value=0, max=1281), HTML(value='')))"
      ]
     },
     "metadata": {},
     "output_type": "display_data"
    },
    {
     "data": {
      "application/vnd.jupyter.widget-view+json": {
       "model_id": "800d4d4729f2438f93c31d8606683c59",
       "version_major": 2,
       "version_minor": 0
      },
      "text/plain": [
       "HBox(children=(IntProgress(value=0, max=1217), HTML(value='')))"
      ]
     },
     "metadata": {},
     "output_type": "display_data"
    },
    {
     "data": {
      "application/vnd.jupyter.widget-view+json": {
       "model_id": "bb466529ff994cceb7cb20b144f488d7",
       "version_major": 2,
       "version_minor": 0
      },
      "text/plain": [
       "HBox(children=(IntProgress(value=0, max=81), HTML(value='')))"
      ]
     },
     "metadata": {},
     "output_type": "display_data"
    },
    {
     "data": {
      "application/vnd.jupyter.widget-view+json": {
       "model_id": "d57c88a049954fc8af4ca886d89316f9",
       "version_major": 2,
       "version_minor": 0
      },
      "text/plain": [
       "HBox(children=(IntProgress(value=0, max=2140), HTML(value='')))"
      ]
     },
     "metadata": {},
     "output_type": "display_data"
    },
    {
     "data": {
      "application/vnd.jupyter.widget-view+json": {
       "model_id": "f27efb9958004ed1b7dbc919286dcc69",
       "version_major": 2,
       "version_minor": 0
      },
      "text/plain": [
       "HBox(children=(IntProgress(value=0, max=1433), HTML(value='')))"
      ]
     },
     "metadata": {},
     "output_type": "display_data"
    },
    {
     "data": {
      "application/vnd.jupyter.widget-view+json": {
       "model_id": "3f7e7ab639f4468dbbd5ccf604202678",
       "version_major": 2,
       "version_minor": 0
      },
      "text/plain": [
       "HBox(children=(IntProgress(value=0, max=1274), HTML(value='')))"
      ]
     },
     "metadata": {},
     "output_type": "display_data"
    },
    {
     "data": {
      "application/vnd.jupyter.widget-view+json": {
       "model_id": "073e5719add74967a4b321f1e262b75e",
       "version_major": 2,
       "version_minor": 0
      },
      "text/plain": [
       "HBox(children=(IntProgress(value=0, max=1411), HTML(value='')))"
      ]
     },
     "metadata": {},
     "output_type": "display_data"
    },
    {
     "data": {
      "application/vnd.jupyter.widget-view+json": {
       "model_id": "2100d00ca6d44c17904ca279e6b32b19",
       "version_major": 2,
       "version_minor": 0
      },
      "text/plain": [
       "HBox(children=(IntProgress(value=0, max=700), HTML(value='')))"
      ]
     },
     "metadata": {},
     "output_type": "display_data"
    },
    {
     "data": {
      "application/vnd.jupyter.widget-view+json": {
       "model_id": "3a1d8436631e4cc89298b1d58be72c8a",
       "version_major": 2,
       "version_minor": 0
      },
      "text/plain": [
       "HBox(children=(IntProgress(value=0, max=1098), HTML(value='')))"
      ]
     },
     "metadata": {},
     "output_type": "display_data"
    },
    {
     "data": {
      "application/vnd.jupyter.widget-view+json": {
       "model_id": "f16b024e066c4153aeb3284d84c0ad9b",
       "version_major": 2,
       "version_minor": 0
      },
      "text/plain": [
       "HBox(children=(IntProgress(value=0, max=1262), HTML(value='')))"
      ]
     },
     "metadata": {},
     "output_type": "display_data"
    },
    {
     "data": {
      "application/vnd.jupyter.widget-view+json": {
       "model_id": "de040b14756341fe9bbc74be0322a4c5",
       "version_major": 2,
       "version_minor": 0
      },
      "text/plain": [
       "HBox(children=(IntProgress(value=0, max=1216), HTML(value='')))"
      ]
     },
     "metadata": {},
     "output_type": "display_data"
    },
    {
     "name": "stdout",
     "output_type": "stream",
     "text": [
      "\n"
     ]
    }
   ],
   "source": [
    "storeImages(src, 'log-1.txt')"
   ]
  },
  {
   "cell_type": "code",
   "execution_count": 13,
   "metadata": {},
   "outputs": [
    {
     "data": {
      "application/vnd.jupyter.widget-view+json": {
       "model_id": "8ad22b123d38448a9ca8e1d3fa686609",
       "version_major": 2,
       "version_minor": 0
      },
      "text/plain": [
       "HBox(children=(IntProgress(value=0, max=15), HTML(value='')))"
      ]
     },
     "metadata": {},
     "output_type": "display_data"
    },
    {
     "data": {
      "application/vnd.jupyter.widget-view+json": {
       "model_id": "6048ef4ce5be4722af30f86f2081a16b",
       "version_major": 2,
       "version_minor": 0
      },
      "text/plain": [
       "HBox(children=(IntProgress(value=0, max=1094), HTML(value='')))"
      ]
     },
     "metadata": {},
     "output_type": "display_data"
    },
    {
     "data": {
      "application/vnd.jupyter.widget-view+json": {
       "model_id": "ead8163b80cc405dbb97c94cef4a5cdc",
       "version_major": 2,
       "version_minor": 0
      },
      "text/plain": [
       "HBox(children=(IntProgress(value=0), HTML(value='')))"
      ]
     },
     "metadata": {},
     "output_type": "display_data"
    },
    {
     "data": {
      "application/vnd.jupyter.widget-view+json": {
       "model_id": "9cf576515dee4087bb9c035dce09e56a",
       "version_major": 2,
       "version_minor": 0
      },
      "text/plain": [
       "HBox(children=(IntProgress(value=0, max=292), HTML(value='')))"
      ]
     },
     "metadata": {},
     "output_type": "display_data"
    },
    {
     "data": {
      "application/vnd.jupyter.widget-view+json": {
       "model_id": "aff933d96f55474fa43c13c1e8911804",
       "version_major": 2,
       "version_minor": 0
      },
      "text/plain": [
       "HBox(children=(IntProgress(value=0, max=1373), HTML(value='')))"
      ]
     },
     "metadata": {},
     "output_type": "display_data"
    },
    {
     "data": {
      "application/vnd.jupyter.widget-view+json": {
       "model_id": "d33fd052a02e475f912d968c8718a62d",
       "version_major": 2,
       "version_minor": 0
      },
      "text/plain": [
       "HBox(children=(IntProgress(value=0, max=745), HTML(value='')))"
      ]
     },
     "metadata": {},
     "output_type": "display_data"
    },
    {
     "data": {
      "application/vnd.jupyter.widget-view+json": {
       "model_id": "966a64ce19e44645affd1dc14de361e6",
       "version_major": 2,
       "version_minor": 0
      },
      "text/plain": [
       "HBox(children=(IntProgress(value=0, max=880), HTML(value='')))"
      ]
     },
     "metadata": {},
     "output_type": "display_data"
    },
    {
     "data": {
      "application/vnd.jupyter.widget-view+json": {
       "model_id": "5c4583e5463b4d09bf3fe2971cc7d6f1",
       "version_major": 2,
       "version_minor": 0
      },
      "text/plain": [
       "HBox(children=(IntProgress(value=0, max=6), HTML(value='')))"
      ]
     },
     "metadata": {},
     "output_type": "display_data"
    },
    {
     "data": {
      "application/vnd.jupyter.widget-view+json": {
       "model_id": "e0d58fbf39fd4aed8a1ee9ef2a451e4b",
       "version_major": 2,
       "version_minor": 0
      },
      "text/plain": [
       "HBox(children=(IntProgress(value=0, max=436), HTML(value='')))"
      ]
     },
     "metadata": {},
     "output_type": "display_data"
    },
    {
     "data": {
      "application/vnd.jupyter.widget-view+json": {
       "model_id": "4a29f5c5e0da42c1b2436f238386884a",
       "version_major": 2,
       "version_minor": 0
      },
      "text/plain": [
       "HBox(children=(IntProgress(value=0, max=1092), HTML(value='')))"
      ]
     },
     "metadata": {},
     "output_type": "display_data"
    },
    {
     "data": {
      "application/vnd.jupyter.widget-view+json": {
       "model_id": "5788750d34a04c85b04fe904776a8b8c",
       "version_major": 2,
       "version_minor": 0
      },
      "text/plain": [
       "HBox(children=(IntProgress(value=0, max=1071), HTML(value='')))"
      ]
     },
     "metadata": {},
     "output_type": "display_data"
    },
    {
     "data": {
      "application/vnd.jupyter.widget-view+json": {
       "model_id": "085681d315ad4cb1a8bc2ff21dbff7f9",
       "version_major": 2,
       "version_minor": 0
      },
      "text/plain": [
       "HBox(children=(IntProgress(value=0, max=1089), HTML(value='')))"
      ]
     },
     "metadata": {},
     "output_type": "display_data"
    },
    {
     "data": {
      "application/vnd.jupyter.widget-view+json": {
       "model_id": "4e64b38583234b64bc2fbbd73e74e923",
       "version_major": 2,
       "version_minor": 0
      },
      "text/plain": [
       "HBox(children=(IntProgress(value=0, max=95), HTML(value='')))"
      ]
     },
     "metadata": {},
     "output_type": "display_data"
    },
    {
     "data": {
      "application/vnd.jupyter.widget-view+json": {
       "model_id": "f94dbdb55bfa4b8fb28a182db120a2bf",
       "version_major": 2,
       "version_minor": 0
      },
      "text/plain": [
       "HBox(children=(IntProgress(value=0, max=497), HTML(value='')))"
      ]
     },
     "metadata": {},
     "output_type": "display_data"
    },
    {
     "data": {
      "application/vnd.jupyter.widget-view+json": {
       "model_id": "7c22f92443d74212ba2c278d8e219e56",
       "version_major": 2,
       "version_minor": 0
      },
      "text/plain": [
       "HBox(children=(IntProgress(value=0, max=641), HTML(value='')))"
      ]
     },
     "metadata": {},
     "output_type": "display_data"
    },
    {
     "data": {
      "application/vnd.jupyter.widget-view+json": {
       "model_id": "a3fc8bccb47440cc940c645240c56b27",
       "version_major": 2,
       "version_minor": 0
      },
      "text/plain": [
       "HBox(children=(IntProgress(value=0, max=705), HTML(value='')))"
      ]
     },
     "metadata": {},
     "output_type": "display_data"
    },
    {
     "name": "stdout",
     "output_type": "stream",
     "text": [
      "\n"
     ]
    }
   ],
   "source": [
    "removeInvalidImages([x[1] for x in src], 'invalid-log')"
   ]
  },
  {
   "cell_type": "markdown",
   "metadata": {},
   "source": [
    "Then I move images from other folders(food and sausage) which might look like hotdog and banana to appropriate packages."
   ]
  },
  {
   "cell_type": "code",
   "execution_count": 14,
   "metadata": {},
   "outputs": [],
   "source": [
    "#set([x[1] for x in src]) ^ {'edible banana', 'banana', 'hotdog', 'frankfurter', 'chili-dog'}"
   ]
  },
  {
   "cell_type": "markdown",
   "metadata": {},
   "source": [
    "# Let's make a dataset!"
   ]
  },
  {
   "cell_type": "code",
   "execution_count": 11,
   "metadata": {},
   "outputs": [],
   "source": [
    "paths_for_data = {\n",
    "    'banana': {'edible banana', 'banana'},\n",
    "    'hotdog': set(('hotdog', 'frankfurter', 'chili-dog')),\n",
    "    'nothotdog_notbanana': set(('bread', \\\n",
    "                             'food', \\\n",
    "                             'forest', \\\n",
    "                             'furniture', \\\n",
    "                             'net', \\\n",
    "                             'paper', \\\n",
    "                             'people', \\\n",
    "                             'pets', \\\n",
    "                             'pizza', \\\n",
    "                             'sausage'))\n",
    "}\n",
    "\n",
    "data_folder = './to_cnn'"
   ]
  },
  {
   "cell_type": "code",
   "execution_count": 12,
   "metadata": {},
   "outputs": [],
   "source": [
    "def path_for_label(x):\n",
    "    for k, v in paths_for_data.items():\n",
    "        if x in v:\n",
    "            return k\n",
    "    return 'nothotdog_notbanana'"
   ]
  },
  {
   "cell_type": "code",
   "execution_count": 13,
   "metadata": {},
   "outputs": [],
   "source": [
    "import shutil\n",
    "\n",
    "pic_number = 0\n",
    "\n",
    "def makeDatasetsForTrain(data_dir, dirPaths, to, sub=False):\n",
    "    global pic_number\n",
    "    for dirPath in tqdm_notebook(dirPaths):\n",
    "        dirPath1 = dirPath\n",
    "        if not sub:\n",
    "            dirPath1 = './' + data_dir + \"/\" + dirPath\n",
    "            path = data_folder + \"/\" + to + \"/\" + path_for_label(dirPath)\n",
    "        if sub:\n",
    "            #print(\"$$$\")\n",
    "            #print(dirPath.split('/'))\n",
    "            path = data_folder + \"/\" + to + \"/\" + path_for_label(dirPath.split('/')[-2])\n",
    "        \n",
    "        if not os.path.exists(path):\n",
    "                os.makedirs(path)\n",
    "        \n",
    "        for img in tqdm_notebook(os.listdir(dirPath1)):\n",
    "            try:\n",
    "                abs_path = dirPath1 + \"/\" + img\n",
    "                if os.path.isdir(abs_path):\n",
    "                    #print('dir')\n",
    "                    makeDatasetsForTrain([abs_path], True)\n",
    "                    #print('end\\n')\n",
    "                else:\n",
    "                    current_image_path = str(dirPath1) + \"/\" + str(img)\n",
    "                    future_image_path = path + \"/\" + str(pic_number) + '.' + str(img).split('.')[-1]\n",
    "                    #print(current_image_path)\n",
    "                    #print(future_image_path)\n",
    "                    #print()\n",
    "                    shutil.copyfile(current_image_path, future_image_path)\n",
    "                    pic_number += 1\n",
    "            except Exception as e:\n",
    "                print(e)"
   ]
  },
  {
   "cell_type": "markdown",
   "metadata": {},
   "source": [
    "# Augmentation of small classes"
   ]
  },
  {
   "cell_type": "code",
   "execution_count": 19,
   "metadata": {},
   "outputs": [
    {
     "name": "stderr",
     "output_type": "stream",
     "text": [
      "\r",
      "Executing Pipeline:   0%|          | 0/1000 [00:00<?, ? Samples/s]"
     ]
    },
    {
     "name": "stdout",
     "output_type": "stream",
     "text": [
      "Initialised with 6 image(s) found.\n",
      "Output directory set to ./data/sausage/output."
     ]
    },
    {
     "name": "stderr",
     "output_type": "stream",
     "text": [
      "Processing <PIL.Image.Image image mode=RGB size=120x120 at 0x7FA3B4132630>: 100%|██████████| 1000/1000 [00:17<00:00, 58.74 Samples/s]\n"
     ]
    }
   ],
   "source": [
    "import Augmentor\n",
    "\n",
    "p = Augmentor.Pipeline('./data/sausage')\n",
    "\n",
    "p.shear(probability=0.45, max_shear_left=15, max_shear_right=15)\n",
    "p.random_distortion(probability=0.75, grid_width=5, grid_height=3, magnitude=10)\n",
    "p.rotate(probability=0.7, max_left_rotation=15, max_right_rotation=15)\n",
    "p.zoom(probability=0.5, min_factor=1.0, max_factor=1.5)\n",
    "p.flip_left_right(probability=0.8)\n",
    "p.random_brightness(probability=0.7, min_factor=0.5, max_factor=1.0)\n",
    "p.random_distortion(probability=0.55, grid_width=4, grid_height=5, magnitude=6)\n",
    "p.crop_random(probability=0.6, percentage_area=0.8)\n",
    "p.resize(probability=0.3, height=120, width=120)\n",
    "\n",
    "p.sample(1000)"
   ]
  },
  {
   "cell_type": "code",
   "execution_count": 20,
   "metadata": {},
   "outputs": [
    {
     "name": "stderr",
     "output_type": "stream",
     "text": [
      "\r",
      "Executing Pipeline:   0%|          | 0/500 [00:00<?, ? Samples/s]"
     ]
    },
    {
     "name": "stdout",
     "output_type": "stream",
     "text": [
      "Initialised with 744 image(s) found.\n",
      "Output directory set to ./data/bread/output."
     ]
    },
    {
     "name": "stderr",
     "output_type": "stream",
     "text": [
      "Processing <PIL.Image.Image image mode=RGB size=375x500 at 0x7FA3B4145438>: 100%|██████████| 500/500 [00:13<00:00, 178.07 Samples/s]\n"
     ]
    }
   ],
   "source": [
    "p = Augmentor.Pipeline('./data/bread')\n",
    "\n",
    "p.shear(probability=0.45, max_shear_left=15, max_shear_right=15)\n",
    "p.random_distortion(probability=0.75, grid_width=5, grid_height=3, magnitude=10)\n",
    "p.rotate(probability=0.7, max_left_rotation=15, max_right_rotation=15)\n",
    "p.zoom(probability=0.5, min_factor=1.0, max_factor=1.5)\n",
    "p.flip_left_right(probability=0.8)\n",
    "p.random_brightness(probability=0.7, min_factor=0.5, max_factor=1.0)\n",
    "p.random_distortion(probability=0.55, grid_width=4, grid_height=5, magnitude=6)\n",
    "p.crop_random(probability=0.6, percentage_area=0.8)\n",
    "p.resize(probability=0.3, height=120, width=120)\n",
    "\n",
    "p.sample(500)"
   ]
  },
  {
   "cell_type": "code",
   "execution_count": 5,
   "metadata": {},
   "outputs": [
    {
     "name": "stderr",
     "output_type": "stream",
     "text": [
      "\r",
      "Executing Pipeline:   0%|          | 0/1000 [00:00<?, ? Samples/s]"
     ]
    },
    {
     "name": "stdout",
     "output_type": "stream",
     "text": [
      "Initialised with 705 image(s) found.\n",
      "Output directory set to ./data/hotdog/output."
     ]
    },
    {
     "name": "stderr",
     "output_type": "stream",
     "text": [
      "Processing <PIL.Image.Image image mode=RGB size=280x209 at 0x7FC9347BC978>: 100%|██████████| 1000/1000 [00:16<00:00, 59.13 Samples/s]\n",
      "Executing Pipeline:   0%|          | 0/1500 [00:00<?, ? Samples/s]"
     ]
    },
    {
     "name": "stdout",
     "output_type": "stream",
     "text": [
      "Initialised with 497 image(s) found.\n",
      "Output directory set to ./data/frankfurter/output."
     ]
    },
    {
     "name": "stderr",
     "output_type": "stream",
     "text": [
      "Processing <PIL.Image.Image image mode=RGB size=500x333 at 0x7FC93C0AE4A8>: 100%|██████████| 1500/1500 [00:27<00:00, 55.13 Samples/s] \n",
      "Executing Pipeline:   0%|          | 0/1250 [00:00<?, ? Samples/s]"
     ]
    },
    {
     "name": "stdout",
     "output_type": "stream",
     "text": [
      "Initialised with 641 image(s) found.\n",
      "Output directory set to ./data/chili-dog/output."
     ]
    },
    {
     "name": "stderr",
     "output_type": "stream",
     "text": [
      "Processing <PIL.Image.Image image mode=RGB size=400x300 at 0x7FC93C482A58>: 100%|██████████| 1250/1250 [00:28<00:00, 43.59 Samples/s]   \n",
      "Executing Pipeline:   0%|          | 0/2300 [00:00<?, ? Samples/s]"
     ]
    },
    {
     "name": "stdout",
     "output_type": "stream",
     "text": [
      "Initialised with 1089 image(s) found.\n",
      "Output directory set to ./data/banana/output."
     ]
    },
    {
     "name": "stderr",
     "output_type": "stream",
     "text": [
      "Processing <PIL.Image.Image image mode=RGB size=120x120 at 0x7FC93C3F3DA0>: 100%|██████████| 2300/2300 [00:46<00:00, 49.68 Samples/s] \n",
      "Executing Pipeline:   0%|          | 0/1000 [00:00<?, ? Samples/s]"
     ]
    },
    {
     "name": "stdout",
     "output_type": "stream",
     "text": [
      "Initialised with 95 image(s) found.\n",
      "Output directory set to ./data/edible banana/output."
     ]
    },
    {
     "name": "stderr",
     "output_type": "stream",
     "text": [
      "Processing <PIL.Image.Image image mode=RGB size=300x400 at 0x7FC9347DE208>: 100%|██████████| 1000/1000 [00:22<00:00, 43.77 Samples/s]\n"
     ]
    }
   ],
   "source": [
    "# augment target classes\n",
    "\n",
    "import Augmentor\n",
    "\n",
    "p = Augmentor.Pipeline('./data/hotdog')\n",
    "\n",
    "p.shear(probability=0.45, max_shear_left=15, max_shear_right=15)\n",
    "p.random_distortion(probability=0.75, grid_width=5, grid_height=3, magnitude=10)\n",
    "p.rotate(probability=0.7, max_left_rotation=15, max_right_rotation=15)\n",
    "p.zoom(probability=0.5, min_factor=1.0, max_factor=1.5)\n",
    "p.flip_left_right(probability=0.8)\n",
    "p.random_brightness(probability=0.7, min_factor=0.5, max_factor=1.0)\n",
    "p.random_distortion(probability=0.55, grid_width=4, grid_height=5, magnitude=6)\n",
    "p.crop_random(probability=0.6, percentage_area=0.8)\n",
    "p.resize(probability=0.3, height=120, width=120)\n",
    "\n",
    "p.sample(1000)\n",
    "\n",
    "p = Augmentor.Pipeline('./data/frankfurter')\n",
    "\n",
    "p.shear(probability=0.45, max_shear_left=15, max_shear_right=15)\n",
    "p.random_distortion(probability=0.75, grid_width=5, grid_height=3, magnitude=10)\n",
    "p.rotate(probability=0.7, max_left_rotation=15, max_right_rotation=15)\n",
    "p.zoom(probability=0.5, min_factor=1.0, max_factor=1.5)\n",
    "p.flip_left_right(probability=0.8)\n",
    "p.random_brightness(probability=0.7, min_factor=0.5, max_factor=1.0)\n",
    "p.random_distortion(probability=0.55, grid_width=4, grid_height=5, magnitude=6)\n",
    "p.crop_random(probability=0.6, percentage_area=0.8)\n",
    "p.resize(probability=0.3, height=120, width=120)\n",
    "\n",
    "p.sample(1500)\n",
    "\n",
    "p = Augmentor.Pipeline('./data/chili-dog')\n",
    "\n",
    "p.shear(probability=0.45, max_shear_left=15, max_shear_right=15)\n",
    "p.random_distortion(probability=0.75, grid_width=5, grid_height=3, magnitude=10)\n",
    "p.rotate(probability=0.7, max_left_rotation=15, max_right_rotation=15)\n",
    "p.zoom(probability=0.5, min_factor=1.0, max_factor=1.5)\n",
    "p.flip_left_right(probability=0.8)\n",
    "p.random_brightness(probability=0.7, min_factor=0.5, max_factor=1.0)\n",
    "p.random_distortion(probability=0.55, grid_width=4, grid_height=5, magnitude=6)\n",
    "p.crop_random(probability=0.6, percentage_area=0.8)\n",
    "p.resize(probability=0.3, height=120, width=120)\n",
    "\n",
    "p.sample(1250)\n",
    "\n",
    "p = Augmentor.Pipeline('./data/banana')\n",
    "\n",
    "p.shear(probability=0.45, max_shear_left=15, max_shear_right=15)\n",
    "p.random_distortion(probability=0.75, grid_width=5, grid_height=3, magnitude=10)\n",
    "p.rotate(probability=0.7, max_left_rotation=15, max_right_rotation=15)\n",
    "p.zoom(probability=0.5, min_factor=1.0, max_factor=1.5)\n",
    "p.flip_left_right(probability=0.8)\n",
    "p.random_brightness(probability=0.7, min_factor=0.5, max_factor=1.0)\n",
    "p.random_distortion(probability=0.55, grid_width=4, grid_height=5, magnitude=6)\n",
    "p.crop_random(probability=0.6, percentage_area=0.8)\n",
    "p.resize(probability=0.3, height=120, width=120)\n",
    "\n",
    "p.sample(2300)\n",
    "\n",
    "\n",
    "p = Augmentor.Pipeline('./data/edible banana')\n",
    "\n",
    "p.shear(probability=0.45, max_shear_left=15, max_shear_right=15)\n",
    "p.random_distortion(probability=0.75, grid_width=5, grid_height=3, magnitude=10)\n",
    "p.rotate(probability=0.7, max_left_rotation=15, max_right_rotation=15)\n",
    "p.zoom(probability=0.5, min_factor=1.0, max_factor=1.5)\n",
    "p.flip_left_right(probability=0.8)\n",
    "p.random_brightness(probability=0.7, min_factor=0.5, max_factor=1.0)\n",
    "p.random_distortion(probability=0.55, grid_width=4, grid_height=5, magnitude=6)\n",
    "p.crop_random(probability=0.6, percentage_area=0.8)\n",
    "p.resize(probability=0.3, height=120, width=120)\n",
    "\n",
    "p.sample(1000)"
   ]
  },
  {
   "cell_type": "code",
   "execution_count": 3,
   "metadata": {},
   "outputs": [],
   "source": [
    "def split_dataset_into_test_and_train_sets(data_dir, train_dir, val_dir, test_dir, split, seed=42):\n",
    "    import shutil\n",
    "    import numpy as np\n",
    "    import os\n",
    "    from tqdm import tqdm_notebook\n",
    "    \n",
    "    np.random.seed(seed)\n",
    "    \n",
    "    # Recreate testing and training directories\n",
    "    \n",
    "    for x in [train_dir, val_dir, test_dir]:\n",
    "        if not os.path.exists(x):\n",
    "                os.makedirs(x)\n",
    "        if test_dir.count('/') > 1:\n",
    "            shutil.rmtree(x, ignore_errors=False)\n",
    "            os.makedirs(x)\n",
    "            print(\"Successfully cleaned directory \" + x + \" !\")\n",
    "        else:\n",
    "            print(\"Refusing to delete data directory \" + x + \" as we prevent you from doing stupid things!\")\n",
    "    \n",
    "        \n",
    "    num_train_files = 0\n",
    "    num_test_files = 0\n",
    "    num_val_files = 0\n",
    "\n",
    "    for subdir, dirs, files in os.walk(data_dir):\n",
    "        category_name = os.path.basename(subdir)\n",
    "\n",
    "        if category_name == 'output':\n",
    "            #print(os.path.abspath(subdir))\n",
    "            category_name = os.path.abspath(subdir).split('/')[-2]\n",
    "            #print(category_name)\n",
    "        \n",
    "        # Don't create a subdirectory for the root directory\n",
    "        #print(category_name + \" vs \" + os.path.basename(data_dir))\n",
    "        if category_name == os.path.basename(data_dir) or category_name == 'invalid':\n",
    "            continue\n",
    "\n",
    "        train_category_dir = train_dir + '/' + category_name\n",
    "        test_category_dir = test_dir + '/' + category_name\n",
    "        val_category_dir = val_dir + '/' + category_name\n",
    "\n",
    "        for x in [train_category_dir, val_category_dir, test_category_dir]:\n",
    "            if not os.path.exists(x):\n",
    "                os.mkdir(x)\n",
    "                \n",
    "        for file in tqdm_notebook(files):\n",
    "            input_file = os.path.join(subdir, file)\n",
    "            r = np.random.rand()\n",
    "            if r < split:\n",
    "                shutil.copy(input_file, test_category_dir + \"/\" + file)\n",
    "                num_test_files += 1\n",
    "            elif r >= split and r < 2 * split:\n",
    "                shutil.copy(input_file, val_category_dir + \"/\" + file)\n",
    "                num_val_files += 1\n",
    "            else:\n",
    "                shutil.copy(input_file, train_category_dir + \"/\" + file)\n",
    "                num_train_files += 1\n",
    "\n",
    "    print(\"Processed \" + str(num_train_files) + \" training files.\")\n",
    "    print(\"Processed \" + str(num_test_files) + \" testing files.\")\n",
    "    print(\"Processed \" + str(num_val_files) + \" validation files.\")"
   ]
  },
  {
   "cell_type": "code",
   "execution_count": 4,
   "metadata": {},
   "outputs": [
    {
     "name": "stdout",
     "output_type": "stream",
     "text": [
      "Successfully cleaned directory ./train/ !\n",
      "Successfully cleaned directory ./val/ !\n",
      "Successfully cleaned directory ./test/ !\n"
     ]
    },
    {
     "data": {
      "application/vnd.jupyter.widget-view+json": {
       "model_id": "aab80b44d33842dbafdfbc858ec9aa5a",
       "version_major": 2,
       "version_minor": 0
      },
      "text/plain": [
       "HBox(children=(IntProgress(value=0, max=1373), HTML(value='')))"
      ]
     },
     "metadata": {},
     "output_type": "display_data"
    },
    {
     "name": "stdout",
     "output_type": "stream",
     "text": [
      "\n"
     ]
    },
    {
     "data": {
      "application/vnd.jupyter.widget-view+json": {
       "model_id": "5ad3794ab94a4a5eb47ef4a0f7ab2136",
       "version_major": 2,
       "version_minor": 0
      },
      "text/plain": [
       "HBox(children=(IntProgress(value=0, max=436), HTML(value='')))"
      ]
     },
     "metadata": {},
     "output_type": "display_data"
    },
    {
     "name": "stdout",
     "output_type": "stream",
     "text": [
      "\n"
     ]
    },
    {
     "data": {
      "application/vnd.jupyter.widget-view+json": {
       "model_id": "b0f019ed36124e86a58554814573531a",
       "version_major": 2,
       "version_minor": 0
      },
      "text/plain": [
       "HBox(children=(IntProgress(value=0, max=641), HTML(value='')))"
      ]
     },
     "metadata": {},
     "output_type": "display_data"
    },
    {
     "name": "stdout",
     "output_type": "stream",
     "text": [
      "\n"
     ]
    },
    {
     "data": {
      "application/vnd.jupyter.widget-view+json": {
       "model_id": "42757acafa6543a0869471a7a2ede637",
       "version_major": 2,
       "version_minor": 0
      },
      "text/plain": [
       "HBox(children=(IntProgress(value=0, max=1250), HTML(value='')))"
      ]
     },
     "metadata": {},
     "output_type": "display_data"
    },
    {
     "name": "stdout",
     "output_type": "stream",
     "text": [
      "\n"
     ]
    },
    {
     "data": {
      "application/vnd.jupyter.widget-view+json": {
       "model_id": "ab5acb78842d4adc9f9efc76568a2fc4",
       "version_major": 2,
       "version_minor": 0
      },
      "text/plain": [
       "HBox(children=(IntProgress(value=0, max=6), HTML(value='')))"
      ]
     },
     "metadata": {},
     "output_type": "display_data"
    },
    {
     "name": "stdout",
     "output_type": "stream",
     "text": [
      "\n"
     ]
    },
    {
     "data": {
      "application/vnd.jupyter.widget-view+json": {
       "model_id": "e8d9338693b04871ba39894210001086",
       "version_major": 2,
       "version_minor": 0
      },
      "text/plain": [
       "HBox(children=(IntProgress(value=0, max=1000), HTML(value='')))"
      ]
     },
     "metadata": {},
     "output_type": "display_data"
    },
    {
     "name": "stdout",
     "output_type": "stream",
     "text": [
      "\n"
     ]
    },
    {
     "data": {
      "application/vnd.jupyter.widget-view+json": {
       "model_id": "f238f26b7f034008a877256775ba2879",
       "version_major": 2,
       "version_minor": 0
      },
      "text/plain": [
       "HBox(children=(IntProgress(value=0, max=292), HTML(value='')))"
      ]
     },
     "metadata": {},
     "output_type": "display_data"
    },
    {
     "name": "stdout",
     "output_type": "stream",
     "text": [
      "\n"
     ]
    },
    {
     "data": {
      "application/vnd.jupyter.widget-view+json": {
       "model_id": "048357297b2040a3876a873a71ecf657",
       "version_major": 2,
       "version_minor": 0
      },
      "text/plain": [
       "HBox(children=(IntProgress(value=0), HTML(value='')))"
      ]
     },
     "metadata": {},
     "output_type": "display_data"
    },
    {
     "name": "stdout",
     "output_type": "stream",
     "text": [
      "\n"
     ]
    },
    {
     "data": {
      "application/vnd.jupyter.widget-view+json": {
       "model_id": "a2e94a1d87b34d70937fbc6abcf3cdb4",
       "version_major": 2,
       "version_minor": 0
      },
      "text/plain": [
       "HBox(children=(IntProgress(value=0, max=497), HTML(value='')))"
      ]
     },
     "metadata": {},
     "output_type": "display_data"
    },
    {
     "name": "stdout",
     "output_type": "stream",
     "text": [
      "\n"
     ]
    },
    {
     "data": {
      "application/vnd.jupyter.widget-view+json": {
       "model_id": "00407223acd142eeb38420f81e1f30ba",
       "version_major": 2,
       "version_minor": 0
      },
      "text/plain": [
       "HBox(children=(IntProgress(value=0, max=1500), HTML(value='')))"
      ]
     },
     "metadata": {},
     "output_type": "display_data"
    },
    {
     "name": "stdout",
     "output_type": "stream",
     "text": [
      "\n"
     ]
    },
    {
     "data": {
      "application/vnd.jupyter.widget-view+json": {
       "model_id": "65496627cdc342ada45a67851232a904",
       "version_major": 2,
       "version_minor": 0
      },
      "text/plain": [
       "HBox(children=(IntProgress(value=0, max=1071), HTML(value='')))"
      ]
     },
     "metadata": {},
     "output_type": "display_data"
    },
    {
     "name": "stdout",
     "output_type": "stream",
     "text": [
      "\n"
     ]
    },
    {
     "data": {
      "application/vnd.jupyter.widget-view+json": {
       "model_id": "f3ee42e99725405fb7ef1d54a1e5aeb6",
       "version_major": 2,
       "version_minor": 0
      },
      "text/plain": [
       "HBox(children=(IntProgress(value=0, max=1089), HTML(value='')))"
      ]
     },
     "metadata": {},
     "output_type": "display_data"
    },
    {
     "name": "stdout",
     "output_type": "stream",
     "text": [
      "\n"
     ]
    },
    {
     "data": {
      "application/vnd.jupyter.widget-view+json": {
       "model_id": "6b2c3efc8d3f44dc93db28e05614b28c",
       "version_major": 2,
       "version_minor": 0
      },
      "text/plain": [
       "HBox(children=(IntProgress(value=0, max=2299), HTML(value='')))"
      ]
     },
     "metadata": {},
     "output_type": "display_data"
    },
    {
     "name": "stdout",
     "output_type": "stream",
     "text": [
      "\n"
     ]
    },
    {
     "data": {
      "application/vnd.jupyter.widget-view+json": {
       "model_id": "30d39f84d73c43eebaf92875e91d46aa",
       "version_major": 2,
       "version_minor": 0
      },
      "text/plain": [
       "HBox(children=(IntProgress(value=0, max=95), HTML(value='')))"
      ]
     },
     "metadata": {},
     "output_type": "display_data"
    },
    {
     "name": "stdout",
     "output_type": "stream",
     "text": [
      "\n"
     ]
    },
    {
     "data": {
      "application/vnd.jupyter.widget-view+json": {
       "model_id": "ab543cea30c4446d9b2b2c1b896d17be",
       "version_major": 2,
       "version_minor": 0
      },
      "text/plain": [
       "HBox(children=(IntProgress(value=0, max=1000), HTML(value='')))"
      ]
     },
     "metadata": {},
     "output_type": "display_data"
    },
    {
     "name": "stdout",
     "output_type": "stream",
     "text": [
      "\n"
     ]
    },
    {
     "data": {
      "application/vnd.jupyter.widget-view+json": {
       "model_id": "a33d5879cd074cd78c93993f63a8350d",
       "version_major": 2,
       "version_minor": 0
      },
      "text/plain": [
       "HBox(children=(IntProgress(value=0, max=1092), HTML(value='')))"
      ]
     },
     "metadata": {},
     "output_type": "display_data"
    },
    {
     "name": "stdout",
     "output_type": "stream",
     "text": [
      "\n"
     ]
    },
    {
     "data": {
      "application/vnd.jupyter.widget-view+json": {
       "model_id": "62086683531442ee96dab03c3728ea73",
       "version_major": 2,
       "version_minor": 0
      },
      "text/plain": [
       "HBox(children=(IntProgress(value=0, max=744), HTML(value='')))"
      ]
     },
     "metadata": {},
     "output_type": "display_data"
    },
    {
     "name": "stdout",
     "output_type": "stream",
     "text": [
      "\n"
     ]
    },
    {
     "data": {
      "application/vnd.jupyter.widget-view+json": {
       "model_id": "b5ca2bfa849244b5a66a5e660f38cdd2",
       "version_major": 2,
       "version_minor": 0
      },
      "text/plain": [
       "HBox(children=(IntProgress(value=0, max=500), HTML(value='')))"
      ]
     },
     "metadata": {},
     "output_type": "display_data"
    },
    {
     "name": "stdout",
     "output_type": "stream",
     "text": [
      "\n"
     ]
    },
    {
     "data": {
      "application/vnd.jupyter.widget-view+json": {
       "model_id": "732c31800b294d748a6e8f50190efe6d",
       "version_major": 2,
       "version_minor": 0
      },
      "text/plain": [
       "HBox(children=(IntProgress(value=0, max=1094), HTML(value='')))"
      ]
     },
     "metadata": {},
     "output_type": "display_data"
    },
    {
     "name": "stdout",
     "output_type": "stream",
     "text": [
      "\n"
     ]
    },
    {
     "data": {
      "application/vnd.jupyter.widget-view+json": {
       "model_id": "1efc1a309f8948d9afe2611c5e57aa8d",
       "version_major": 2,
       "version_minor": 0
      },
      "text/plain": [
       "HBox(children=(IntProgress(value=0, max=879), HTML(value='')))"
      ]
     },
     "metadata": {},
     "output_type": "display_data"
    },
    {
     "name": "stdout",
     "output_type": "stream",
     "text": [
      "\n"
     ]
    },
    {
     "data": {
      "application/vnd.jupyter.widget-view+json": {
       "model_id": "68de4ebd161049b2b3e6057e121d73bd",
       "version_major": 2,
       "version_minor": 0
      },
      "text/plain": [
       "HBox(children=(IntProgress(value=0, max=705), HTML(value='')))"
      ]
     },
     "metadata": {},
     "output_type": "display_data"
    },
    {
     "name": "stdout",
     "output_type": "stream",
     "text": [
      "\n"
     ]
    },
    {
     "data": {
      "application/vnd.jupyter.widget-view+json": {
       "model_id": "fb748484bad648fd9ca420c077549896",
       "version_major": 2,
       "version_minor": 0
      },
      "text/plain": [
       "HBox(children=(IntProgress(value=0, max=1000), HTML(value='')))"
      ]
     },
     "metadata": {},
     "output_type": "display_data"
    },
    {
     "name": "stdout",
     "output_type": "stream",
     "text": [
      "\n",
      "Processed 14915 training files.\n",
      "Processed 1892 testing files.\n",
      "Processed 1856 validation files.\n"
     ]
    }
   ],
   "source": [
    "split_dataset_into_test_and_train_sets('./data/', './train/', './val/', './test/', 0.1)"
   ]
  },
  {
   "cell_type": "code",
   "execution_count": 14,
   "metadata": {},
   "outputs": [
    {
     "name": "stderr",
     "output_type": "stream",
     "text": [
      "\r",
      "  0%|          | 0/3 [00:00<?, ?it/s]"
     ]
    },
    {
     "name": "stdout",
     "output_type": "stream",
     "text": [
      "train !\n"
     ]
    },
    {
     "data": {
      "application/vnd.jupyter.widget-view+json": {
       "model_id": "923f4d96f3de4f25b419c147a93e2e41",
       "version_major": 2,
       "version_minor": 0
      },
      "text/plain": [
       "HBox(children=(IntProgress(value=0, max=15), HTML(value='')))"
      ]
     },
     "metadata": {},
     "output_type": "display_data"
    },
    {
     "data": {
      "application/vnd.jupyter.widget-view+json": {
       "model_id": "a77c70072e2f4900ae5f6942a63d13e7",
       "version_major": 2,
       "version_minor": 0
      },
      "text/plain": [
       "HBox(children=(IntProgress(value=0, max=862), HTML(value='')))"
      ]
     },
     "metadata": {},
     "output_type": "display_data"
    },
    {
     "data": {
      "application/vnd.jupyter.widget-view+json": {
       "model_id": "4f9aeae4d07f4aa2923312c3497d519e",
       "version_major": 2,
       "version_minor": 0
      },
      "text/plain": [
       "HBox(children=(IntProgress(value=0, max=76), HTML(value='')))"
      ]
     },
     "metadata": {},
     "output_type": "display_data"
    },
    {
     "data": {
      "application/vnd.jupyter.widget-view+json": {
       "model_id": "f566e5cce8eb45c9b66126ca4e348f92",
       "version_major": 2,
       "version_minor": 0
      },
      "text/plain": [
       "HBox(children=(IntProgress(value=0, max=227), HTML(value='')))"
      ]
     },
     "metadata": {},
     "output_type": "display_data"
    },
    {
     "data": {
      "application/vnd.jupyter.widget-view+json": {
       "model_id": "9796142634a14922a8341404fab603c9",
       "version_major": 2,
       "version_minor": 0
      },
      "text/plain": [
       "HBox(children=(IntProgress(value=0, max=1074), HTML(value='')))"
      ]
     },
     "metadata": {},
     "output_type": "display_data"
    },
    {
     "data": {
      "application/vnd.jupyter.widget-view+json": {
       "model_id": "8b781e1fafdc4a2f85312ef39960f2c7",
       "version_major": 2,
       "version_minor": 0
      },
      "text/plain": [
       "HBox(children=(IntProgress(value=0, max=986), HTML(value='')))"
      ]
     },
     "metadata": {},
     "output_type": "display_data"
    },
    {
     "data": {
      "application/vnd.jupyter.widget-view+json": {
       "model_id": "6c0a8a60016344529ba7a66f2346918f",
       "version_major": 2,
       "version_minor": 0
      },
      "text/plain": [
       "HBox(children=(IntProgress(value=0, max=719), HTML(value='')))"
      ]
     },
     "metadata": {},
     "output_type": "display_data"
    },
    {
     "data": {
      "application/vnd.jupyter.widget-view+json": {
       "model_id": "7765e94a39884ad884057c6312f83590",
       "version_major": 2,
       "version_minor": 0
      },
      "text/plain": [
       "HBox(children=(IntProgress(value=0, max=803), HTML(value='')))"
      ]
     },
     "metadata": {},
     "output_type": "display_data"
    },
    {
     "data": {
      "application/vnd.jupyter.widget-view+json": {
       "model_id": "b377d2f5b5ba43479a6b669bf1fe4105",
       "version_major": 2,
       "version_minor": 0
      },
      "text/plain": [
       "HBox(children=(IntProgress(value=0, max=344), HTML(value='')))"
      ]
     },
     "metadata": {},
     "output_type": "display_data"
    },
    {
     "data": {
      "application/vnd.jupyter.widget-view+json": {
       "model_id": "fedaeeb105b44e79b9fa6aa095f5ee31",
       "version_major": 2,
       "version_minor": 0
      },
      "text/plain": [
       "HBox(children=(IntProgress(value=0, max=861), HTML(value='')))"
      ]
     },
     "metadata": {},
     "output_type": "display_data"
    },
    {
     "data": {
      "application/vnd.jupyter.widget-view+json": {
       "model_id": "df46efa45f3a4907a795a922ff41808d",
       "version_major": 2,
       "version_minor": 0
      },
      "text/plain": [
       "HBox(children=(IntProgress(value=0, max=849), HTML(value='')))"
      ]
     },
     "metadata": {},
     "output_type": "display_data"
    },
    {
     "data": {
      "application/vnd.jupyter.widget-view+json": {
       "model_id": "55d69719403c4d87bdd9892d0cd799dc",
       "version_major": 2,
       "version_minor": 0
      },
      "text/plain": [
       "HBox(children=(IntProgress(value=0, max=2738), HTML(value='')))"
      ]
     },
     "metadata": {},
     "output_type": "display_data"
    },
    {
     "data": {
      "application/vnd.jupyter.widget-view+json": {
       "model_id": "92c4392d2f984c929d87e8b725e79aa8",
       "version_major": 2,
       "version_minor": 0
      },
      "text/plain": [
       "HBox(children=(IntProgress(value=0, max=870), HTML(value='')))"
      ]
     },
     "metadata": {},
     "output_type": "display_data"
    },
    {
     "data": {
      "application/vnd.jupyter.widget-view+json": {
       "model_id": "028f50ba771a40eeb4430645f6465c0f",
       "version_major": 2,
       "version_minor": 0
      },
      "text/plain": [
       "HBox(children=(IntProgress(value=0, max=1591), HTML(value='')))"
      ]
     },
     "metadata": {},
     "output_type": "display_data"
    },
    {
     "data": {
      "application/vnd.jupyter.widget-view+json": {
       "model_id": "2ec121cc245040dbb9a798b384c15563",
       "version_major": 2,
       "version_minor": 0
      },
      "text/plain": [
       "HBox(children=(IntProgress(value=0, max=1521), HTML(value='')))"
      ]
     },
     "metadata": {},
     "output_type": "display_data"
    },
    {
     "data": {
      "application/vnd.jupyter.widget-view+json": {
       "model_id": "67d5cbb7d90845f483ebe52762bcca8d",
       "version_major": 2,
       "version_minor": 0
      },
      "text/plain": [
       "HBox(children=(IntProgress(value=0, max=1394), HTML(value='')))"
      ]
     },
     "metadata": {},
     "output_type": "display_data"
    },
    {
     "name": "stderr",
     "output_type": "stream",
     "text": [
      "\r",
      " 33%|███▎      | 1/3 [00:02<00:05,  2.73s/it]"
     ]
    },
    {
     "name": "stdout",
     "output_type": "stream",
     "text": [
      "\n",
      "val !\n"
     ]
    },
    {
     "data": {
      "application/vnd.jupyter.widget-view+json": {
       "model_id": "71ef66f740e848b6b67468caeff13872",
       "version_major": 2,
       "version_minor": 0
      },
      "text/plain": [
       "HBox(children=(IntProgress(value=0, max=15), HTML(value='')))"
      ]
     },
     "metadata": {},
     "output_type": "display_data"
    },
    {
     "data": {
      "application/vnd.jupyter.widget-view+json": {
       "model_id": "f4f95f04682a428187a9e8bd179bcc0c",
       "version_major": 2,
       "version_minor": 0
      },
      "text/plain": [
       "HBox(children=(IntProgress(value=0, max=101), HTML(value='')))"
      ]
     },
     "metadata": {},
     "output_type": "display_data"
    },
    {
     "data": {
      "application/vnd.jupyter.widget-view+json": {
       "model_id": "9298b3d6dd5f4689b9a7538ebc46f2ed",
       "version_major": 2,
       "version_minor": 0
      },
      "text/plain": [
       "HBox(children=(IntProgress(value=0, max=12), HTML(value='')))"
      ]
     },
     "metadata": {},
     "output_type": "display_data"
    },
    {
     "data": {
      "application/vnd.jupyter.widget-view+json": {
       "model_id": "cbba080b24f446b0ae8860452cee163b",
       "version_major": 2,
       "version_minor": 0
      },
      "text/plain": [
       "HBox(children=(IntProgress(value=0, max=36), HTML(value='')))"
      ]
     },
     "metadata": {},
     "output_type": "display_data"
    },
    {
     "data": {
      "application/vnd.jupyter.widget-view+json": {
       "model_id": "64ea27e4b588411f8c55e06e957da86a",
       "version_major": 2,
       "version_minor": 0
      },
      "text/plain": [
       "HBox(children=(IntProgress(value=0, max=150), HTML(value='')))"
      ]
     },
     "metadata": {},
     "output_type": "display_data"
    },
    {
     "data": {
      "application/vnd.jupyter.widget-view+json": {
       "model_id": "f316939d9f804031b12d6e4026f6ab74",
       "version_major": 2,
       "version_minor": 0
      },
      "text/plain": [
       "HBox(children=(IntProgress(value=0, max=126), HTML(value='')))"
      ]
     },
     "metadata": {},
     "output_type": "display_data"
    },
    {
     "data": {
      "application/vnd.jupyter.widget-view+json": {
       "model_id": "ff79820726a746cc8d5d60e363ec5b15",
       "version_major": 2,
       "version_minor": 0
      },
      "text/plain": [
       "HBox(children=(IntProgress(value=0, max=69), HTML(value='')))"
      ]
     },
     "metadata": {},
     "output_type": "display_data"
    },
    {
     "data": {
      "application/vnd.jupyter.widget-view+json": {
       "model_id": "3a29ebe8cc4e4561829c10ec04c9a7b9",
       "version_major": 2,
       "version_minor": 0
      },
      "text/plain": [
       "HBox(children=(IntProgress(value=0, max=101), HTML(value='')))"
      ]
     },
     "metadata": {},
     "output_type": "display_data"
    },
    {
     "data": {
      "application/vnd.jupyter.widget-view+json": {
       "model_id": "57373067cfea414d95cd178dac88941b",
       "version_major": 2,
       "version_minor": 0
      },
      "text/plain": [
       "HBox(children=(IntProgress(value=0, max=45), HTML(value='')))"
      ]
     },
     "metadata": {},
     "output_type": "display_data"
    },
    {
     "data": {
      "application/vnd.jupyter.widget-view+json": {
       "model_id": "52f0ea70bae947079299c7e3d9a74c07",
       "version_major": 2,
       "version_minor": 0
      },
      "text/plain": [
       "HBox(children=(IntProgress(value=0, max=122), HTML(value='')))"
      ]
     },
     "metadata": {},
     "output_type": "display_data"
    },
    {
     "data": {
      "application/vnd.jupyter.widget-view+json": {
       "model_id": "c655799a0aca48a6b7e6c5edc6a557bd",
       "version_major": 2,
       "version_minor": 0
      },
      "text/plain": [
       "HBox(children=(IntProgress(value=0, max=113), HTML(value='')))"
      ]
     },
     "metadata": {},
     "output_type": "display_data"
    },
    {
     "data": {
      "application/vnd.jupyter.widget-view+json": {
       "model_id": "296056910f964affb1a03c0cc5cbb5e9",
       "version_major": 2,
       "version_minor": 0
      },
      "text/plain": [
       "HBox(children=(IntProgress(value=0, max=325), HTML(value='')))"
      ]
     },
     "metadata": {},
     "output_type": "display_data"
    },
    {
     "data": {
      "application/vnd.jupyter.widget-view+json": {
       "model_id": "dbfa4c977be147ea9506f80b08320997",
       "version_major": 2,
       "version_minor": 0
      },
      "text/plain": [
       "HBox(children=(IntProgress(value=0, max=117), HTML(value='')))"
      ]
     },
     "metadata": {},
     "output_type": "display_data"
    },
    {
     "data": {
      "application/vnd.jupyter.widget-view+json": {
       "model_id": "2a41b52823d7401fa1c4eb8cbe0f1377",
       "version_major": 2,
       "version_minor": 0
      },
      "text/plain": [
       "HBox(children=(IntProgress(value=0, max=201), HTML(value='')))"
      ]
     },
     "metadata": {},
     "output_type": "display_data"
    },
    {
     "data": {
      "application/vnd.jupyter.widget-view+json": {
       "model_id": "159db418bbe342e1b39079f06d190b5a",
       "version_major": 2,
       "version_minor": 0
      },
      "text/plain": [
       "HBox(children=(IntProgress(value=0, max=172), HTML(value='')))"
      ]
     },
     "metadata": {},
     "output_type": "display_data"
    },
    {
     "data": {
      "application/vnd.jupyter.widget-view+json": {
       "model_id": "14455816df314d7c96604efa2780cda2",
       "version_major": 2,
       "version_minor": 0
      },
      "text/plain": [
       "HBox(children=(IntProgress(value=0, max=166), HTML(value='')))"
      ]
     },
     "metadata": {},
     "output_type": "display_data"
    },
    {
     "name": "stderr",
     "output_type": "stream",
     "text": [
      "\r",
      " 67%|██████▋   | 2/3 [00:03<00:02,  2.15s/it]"
     ]
    },
    {
     "name": "stdout",
     "output_type": "stream",
     "text": [
      "\n",
      "test !\n"
     ]
    },
    {
     "data": {
      "application/vnd.jupyter.widget-view+json": {
       "model_id": "da3ae13511c945f4b5f18e86cb662ddc",
       "version_major": 2,
       "version_minor": 0
      },
      "text/plain": [
       "HBox(children=(IntProgress(value=0, max=15), HTML(value='')))"
      ]
     },
     "metadata": {},
     "output_type": "display_data"
    },
    {
     "data": {
      "application/vnd.jupyter.widget-view+json": {
       "model_id": "36a86b711fe447df9dc4920023152229",
       "version_major": 2,
       "version_minor": 0
      },
      "text/plain": [
       "HBox(children=(IntProgress(value=0, max=131), HTML(value='')))"
      ]
     },
     "metadata": {},
     "output_type": "display_data"
    },
    {
     "data": {
      "application/vnd.jupyter.widget-view+json": {
       "model_id": "21a8dc4d0f1c4aa79dbaff5f199e1526",
       "version_major": 2,
       "version_minor": 0
      },
      "text/plain": [
       "HBox(children=(IntProgress(value=0, max=12), HTML(value='')))"
      ]
     },
     "metadata": {},
     "output_type": "display_data"
    },
    {
     "data": {
      "application/vnd.jupyter.widget-view+json": {
       "model_id": "c4de471c79df4221b49e6defa147a049",
       "version_major": 2,
       "version_minor": 0
      },
      "text/plain": [
       "HBox(children=(IntProgress(value=0, max=29), HTML(value='')))"
      ]
     },
     "metadata": {},
     "output_type": "display_data"
    },
    {
     "data": {
      "application/vnd.jupyter.widget-view+json": {
       "model_id": "05de1c5035a74a55bead56bccb87fce3",
       "version_major": 2,
       "version_minor": 0
      },
      "text/plain": [
       "HBox(children=(IntProgress(value=0, max=149), HTML(value='')))"
      ]
     },
     "metadata": {},
     "output_type": "display_data"
    },
    {
     "data": {
      "application/vnd.jupyter.widget-view+json": {
       "model_id": "af795adb397b46afbf3de7ec712001ca",
       "version_major": 2,
       "version_minor": 0
      },
      "text/plain": [
       "HBox(children=(IntProgress(value=0, max=132), HTML(value='')))"
      ]
     },
     "metadata": {},
     "output_type": "display_data"
    },
    {
     "data": {
      "application/vnd.jupyter.widget-view+json": {
       "model_id": "daebdf52a0184d6c91b144887c752431",
       "version_major": 2,
       "version_minor": 0
      },
      "text/plain": [
       "HBox(children=(IntProgress(value=0, max=91), HTML(value='')))"
      ]
     },
     "metadata": {},
     "output_type": "display_data"
    },
    {
     "data": {
      "application/vnd.jupyter.widget-view+json": {
       "model_id": "d36f9ce3bf8249958357914f0248d81c",
       "version_major": 2,
       "version_minor": 0
      },
      "text/plain": [
       "HBox(children=(IntProgress(value=0, max=102), HTML(value='')))"
      ]
     },
     "metadata": {},
     "output_type": "display_data"
    },
    {
     "data": {
      "application/vnd.jupyter.widget-view+json": {
       "model_id": "4e28086bc6cc47ab91c198f6a488fc2e",
       "version_major": 2,
       "version_minor": 0
      },
      "text/plain": [
       "HBox(children=(IntProgress(value=0, max=47), HTML(value='')))"
      ]
     },
     "metadata": {},
     "output_type": "display_data"
    },
    {
     "data": {
      "application/vnd.jupyter.widget-view+json": {
       "model_id": "d958f615ce48462db6870948fd162623",
       "version_major": 2,
       "version_minor": 0
      },
      "text/plain": [
       "HBox(children=(IntProgress(value=0, max=109), HTML(value='')))"
      ]
     },
     "metadata": {},
     "output_type": "display_data"
    },
    {
     "data": {
      "application/vnd.jupyter.widget-view+json": {
       "model_id": "0df626dd98e74682a64db042f49148e3",
       "version_major": 2,
       "version_minor": 0
      },
      "text/plain": [
       "HBox(children=(IntProgress(value=0, max=109), HTML(value='')))"
      ]
     },
     "metadata": {},
     "output_type": "display_data"
    },
    {
     "data": {
      "application/vnd.jupyter.widget-view+json": {
       "model_id": "a3ffe5a823874fcb9e85effa59fc4420",
       "version_major": 2,
       "version_minor": 0
      },
      "text/plain": [
       "HBox(children=(IntProgress(value=0, max=325), HTML(value='')))"
      ]
     },
     "metadata": {},
     "output_type": "display_data"
    },
    {
     "data": {
      "application/vnd.jupyter.widget-view+json": {
       "model_id": "6be57e3ab5c14e8381f0c4e5e4c24a9c",
       "version_major": 2,
       "version_minor": 0
      },
      "text/plain": [
       "HBox(children=(IntProgress(value=0, max=108), HTML(value='')))"
      ]
     },
     "metadata": {},
     "output_type": "display_data"
    },
    {
     "data": {
      "application/vnd.jupyter.widget-view+json": {
       "model_id": "654436881fb84deca4b3e912620e7817",
       "version_major": 2,
       "version_minor": 0
      },
      "text/plain": [
       "HBox(children=(IntProgress(value=0, max=205), HTML(value='')))"
      ]
     },
     "metadata": {},
     "output_type": "display_data"
    },
    {
     "data": {
      "application/vnd.jupyter.widget-view+json": {
       "model_id": "1869e12ef5d645cdb04d0bc1eaaf065c",
       "version_major": 2,
       "version_minor": 0
      },
      "text/plain": [
       "HBox(children=(IntProgress(value=0, max=198), HTML(value='')))"
      ]
     },
     "metadata": {},
     "output_type": "display_data"
    },
    {
     "data": {
      "application/vnd.jupyter.widget-view+json": {
       "model_id": "27c31c6f2d1e4fecac42b86bc070b272",
       "version_major": 2,
       "version_minor": 0
      },
      "text/plain": [
       "HBox(children=(IntProgress(value=0, max=145), HTML(value='')))"
      ]
     },
     "metadata": {},
     "output_type": "display_data"
    },
    {
     "name": "stderr",
     "output_type": "stream",
     "text": [
      "\r",
      "100%|██████████| 3/3 [00:04<00:00,  1.77s/it]"
     ]
    },
    {
     "name": "stdout",
     "output_type": "stream",
     "text": [
      "\n"
     ]
    },
    {
     "name": "stderr",
     "output_type": "stream",
     "text": [
      "\n"
     ]
    }
   ],
   "source": [
    "# make new categories!\n",
    "from tqdm import tqdm\n",
    "for xx in tqdm(['train', 'val', 'test']):\n",
    "    print(xx, \"!\")\n",
    "    makeDatasetsForTrain(xx, [x[1] for x in src], xx)"
   ]
  },
  {
   "cell_type": "code",
   "execution_count": 15,
   "metadata": {},
   "outputs": [],
   "source": [
    "import os\n",
    "\n",
    "def number_of_files(path):\n",
    "    return len([name for name in os.listdir(path) if os.path.isfile(os.path.join(path, name))])"
   ]
  },
  {
   "cell_type": "code",
   "execution_count": 17,
   "metadata": {},
   "outputs": [
    {
     "name": "stdout",
     "output_type": "stream",
     "text": [
      "[3608, 4506, 6801]\n",
      "[442, 539, 875]\n",
      "[433, 548, 911]\n"
     ]
    }
   ],
   "source": [
    "t = []\n",
    "for y in ['train', 'val', 'test']:\n",
    "    tmp = []\n",
    "    for x in ['banana', 'hotdog', 'nothotdog_notbanana']:\n",
    "        tmp.append(number_of_files(\"./to_cnn/\" + y + \"/\" + x))\n",
    "    print(tmp)\n",
    "    t.append(sum(tmp))"
   ]
  },
  {
   "cell_type": "code",
   "execution_count": 18,
   "metadata": {},
   "outputs": [
    {
     "data": {
      "text/plain": [
       "[0.7991748379145903, 0.09944810587794031, 0.10137705620746933]"
      ]
     },
     "execution_count": 18,
     "metadata": {},
     "output_type": "execute_result"
    }
   ],
   "source": [
    "list(map(lambda x: x / sum(t), t))"
   ]
  },
  {
   "cell_type": "markdown",
   "metadata": {},
   "source": [
    "That's all folks!"
   ]
  }
 ],
 "metadata": {
  "kernelspec": {
   "display_name": "Python 3",
   "language": "python",
   "name": "python3"
  },
  "language_info": {
   "codemirror_mode": {
    "name": "ipython",
    "version": 3
   },
   "file_extension": ".py",
   "mimetype": "text/x-python",
   "name": "python",
   "nbconvert_exporter": "python",
   "pygments_lexer": "ipython3",
   "version": "3.5.2"
  }
 },
 "nbformat": 4,
 "nbformat_minor": 2
}
