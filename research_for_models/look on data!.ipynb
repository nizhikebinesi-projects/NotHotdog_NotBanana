{
 "cells": [
  {
   "cell_type": "code",
   "execution_count": 1,
   "metadata": {},
   "outputs": [],
   "source": [
    "# fruits data from https://www.kaggle.com/moltean/fruits/data\n",
    "# food-images-food-101.zip from kaggle too!\n",
    "# not for first use!"
   ]
  },
  {
   "cell_type": "code",
   "execution_count": 2,
   "metadata": {},
   "outputs": [
    {
     "name": "stdout",
     "output_type": "stream",
     "text": [
      "data  look on data!.ipynb\r\n"
     ]
    }
   ],
   "source": [
    "!ls"
   ]
  },
  {
   "cell_type": "code",
   "execution_count": 3,
   "metadata": {},
   "outputs": [],
   "source": [
    "urls = [ \n",
    "            ('http://image-net.org/api/text/imagenet.synset.geturls?wnid=n14974264', 'paper'),\n",
    "            ('http://image-net.org/api/text/imagenet.synset.geturls?wnid=n03580615', 'net'),\n",
    "            ('http://image-net.org/api/text/imagenet.synset.geturls?wnid=n09411189', 'forest'),\n",
    "            ('http://image-net.org/api/text/imagenet.synset.geturls?wnid=n01318894', 'pets'),\n",
    "            ('http://image-net.org/api/text/imagenet.synset.geturls?wnid=n07687469', 'bread'),\n",
    "            ('http://image-net.org/api/text/imagenet.synset.geturls?wnid=n07874063', 'pizza'),\n",
    "            ('http://image-net.org/api/text/imagenet.synset.geturls?wnid=n05257967', 'sausage'),\n",
    "            ('http://image-net.org/api/text/imagenet.synset.geturls?wnid=n03405725', 'furniture'),\n",
    "            ('http://image-net.org/api/text/imagenet.synset.geturls?wnid=n07942152', 'people'),\n",
    "            ('http://image-net.org/api/text/imagenet.synset.geturls?wnid=n00021265', 'food'),\n",
    "            ('http://image-net.org/api/text/imagenet.synset.geturls?wnid=n07753592', 'banana'),\n",
    "            ('http://image-net.org/api/text/imagenet.synset.geturls?wnid=n12353203', 'edible banana'),\n",
    "            ('http://image-net.org/api/text/imagenet.synset.geturls?wnid=n07690019', 'frankfurter'),\n",
    "            ('http://image-net.org/api/text/imagenet.synset.geturls?wnid=n07865105', 'chili-dog'),\n",
    "            ('http://image-net.org/api/text/imagenet.synset.geturls?wnid=n07697537', 'hotdog'),\n",
    "]"
   ]
  },
  {
   "cell_type": "code",
   "execution_count": null,
   "metadata": {},
   "outputs": [],
   "source": []
  }
 ],
 "metadata": {
  "kernelspec": {
   "display_name": "Python 3",
   "language": "python",
   "name": "python3"
  },
  "language_info": {
   "codemirror_mode": {
    "name": "ipython",
    "version": 3
   },
   "file_extension": ".py",
   "mimetype": "text/x-python",
   "name": "python",
   "nbconvert_exporter": "python",
   "pygments_lexer": "ipython3",
   "version": "3.5.2"
  }
 },
 "nbformat": 4,
 "nbformat_minor": 2
}
